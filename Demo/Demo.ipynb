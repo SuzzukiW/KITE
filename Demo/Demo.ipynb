{
 "cells": [
  {
   "cell_type": "markdown",
   "metadata": {},
   "source": [
    "# Demo"
   ]
  },
  {
   "cell_type": "code",
   "execution_count": 12,
   "metadata": {},
   "outputs": [],
   "source": [
    "import torch\n",
    "import torch.nn as nn\n",
    "import torch.optim as optim\n",
    "from torch.utils.data import Dataset, DataLoader"
   ]
  },
  {
   "cell_type": "code",
   "execution_count": 11,
   "metadata": {},
   "outputs": [
    {
     "name": "stdout",
     "output_type": "stream",
     "text": [
      "Epoch [1/10], Train Loss: 0.6555, Train Accuracy: 0.7612, Test Accuracy: 0.6950\n",
      "Epoch [2/10], Train Loss: 0.5474, Train Accuracy: 0.8462, Test Accuracy: 0.7350\n",
      "Epoch [3/10], Train Loss: 0.4568, Train Accuracy: 0.8725, Test Accuracy: 0.7500\n",
      "Epoch [4/10], Train Loss: 0.3798, Train Accuracy: 0.9000, Test Accuracy: 0.7800\n",
      "Epoch [5/10], Train Loss: 0.3202, Train Accuracy: 0.9213, Test Accuracy: 0.8150\n",
      "Epoch [6/10], Train Loss: 0.2744, Train Accuracy: 0.9325, Test Accuracy: 0.8400\n",
      "Epoch [7/10], Train Loss: 0.2371, Train Accuracy: 0.9400, Test Accuracy: 0.8400\n",
      "Epoch [8/10], Train Loss: 0.2061, Train Accuracy: 0.9525, Test Accuracy: 0.8550\n",
      "Epoch [9/10], Train Loss: 0.1797, Train Accuracy: 0.9625, Test Accuracy: 0.8650\n",
      "Epoch [10/10], Train Loss: 0.1569, Train Accuracy: 0.9688, Test Accuracy: 0.8700\n"
     ]
    }
   ],
   "source": [
    "class EpistasisDataset(Dataset):\n",
    "    def __init__(self, X, y):\n",
    "        self.X = torch.tensor(X, dtype=torch.float32)\n",
    "        self.y = torch.tensor(y, dtype=torch.float32)\n",
    "\n",
    "    def __len__(self):\n",
    "        return len(self.X)\n",
    "\n",
    "    def __getitem__(self, idx):\n",
    "        return self.X[idx], self.y[idx]\n",
    "\n",
    "class EpistasisDetector(nn.Module):\n",
    "    def __init__(self, input_dim, hidden_dim, output_dim):\n",
    "        super(EpistasisDetector, self).__init__()\n",
    "        self.fc1 = nn.Linear(input_dim, hidden_dim)\n",
    "        self.relu = nn.ReLU()\n",
    "        self.fc2 = nn.Linear(hidden_dim, output_dim)\n",
    "        self.sigmoid = nn.Sigmoid()\n",
    "\n",
    "    def forward(self, x):\n",
    "        x = self.fc1(x)\n",
    "        x = self.relu(x)\n",
    "        x = self.fc2(x)\n",
    "        x = self.sigmoid(x)\n",
    "        return x\n",
    "\n",
    "def train(model, dataloader, criterion, optimizer, device):\n",
    "    model.train()\n",
    "    running_loss = 0.0\n",
    "    for inputs, labels in dataloader:\n",
    "        inputs, labels = inputs.to(device), labels.to(device)\n",
    "        optimizer.zero_grad()\n",
    "        outputs = model(inputs)\n",
    "        loss = criterion(outputs, labels.unsqueeze(1))\n",
    "        loss.backward()\n",
    "        optimizer.step()\n",
    "        running_loss += loss.item()\n",
    "    return running_loss / len(dataloader)\n",
    "\n",
    "def evaluate(model, dataloader, device):\n",
    "    model.eval()\n",
    "    correct = 0\n",
    "    total = 0\n",
    "    with torch.no_grad():\n",
    "        for inputs, labels in dataloader:\n",
    "            inputs, labels = inputs.to(device), labels.to(device)\n",
    "            outputs = model(inputs)\n",
    "            predicted = (outputs >= 0.5).float()\n",
    "            total += labels.size(0)\n",
    "            correct += (predicted == labels.unsqueeze(1)).sum().item()\n",
    "    return correct / total\n",
    "\n",
    "# generate synthetic genotype and phenotype data with epistatic interactions\n",
    "X, y = make_classification(n_samples=1000, n_features=100, n_informative=10,\n",
    "                           n_redundant=0, n_repeated=0, n_classes=2,\n",
    "                           n_clusters_per_class=2, weights=None, flip_y=0.01,\n",
    "                           class_sep=1.0, hypercube=True, shift=0.0,\n",
    "                           scale=1.0, shuffle=True, random_state=42)\n",
    "\n",
    "# split the data into training and testing sets\n",
    "X_train, X_test, y_train, y_test = train_test_split(X, y, test_size=0.2, random_state=42)\n",
    "\n",
    "# create PyTorch datasets\n",
    "train_dataset = EpistasisDataset(X_train, y_train)\n",
    "test_dataset = EpistasisDataset(X_test, y_test)\n",
    "\n",
    "# create data loaders\n",
    "train_loader = DataLoader(train_dataset, batch_size=32, shuffle=True)\n",
    "test_loader = DataLoader(test_dataset, batch_size=32, shuffle=False)\n",
    "\n",
    "# set up the device\n",
    "device = torch.device(\"cuda\" if torch.cuda.is_available() else \"cpu\")\n",
    "\n",
    "# initialize the model, loss function, and optimizer\n",
    "input_dim = X_train.shape[1]\n",
    "hidden_dim = 64\n",
    "output_dim = 1\n",
    "model = EpistasisDetector(input_dim, hidden_dim, output_dim).to(device)\n",
    "criterion = nn.BCELoss()\n",
    "optimizer = optim.Adam(model.parameters(), lr=0.001)\n",
    "\n",
    "# training loop\n",
    "num_epochs = 10\n",
    "for epoch in range(num_epochs):\n",
    "    train_loss = train(model, train_loader, criterion, optimizer, device)\n",
    "    train_accuracy = evaluate(model, train_loader, device)\n",
    "    test_accuracy = evaluate(model, test_loader, device)\n",
    "    print(f\"Epoch [{epoch+1}/{num_epochs}], Train Loss: {train_loss:.4f}, \"\n",
    "          f\"Train Accuracy: {train_accuracy:.4f}, Test Accuracy: {test_accuracy:.4f}\")"
   ]
  }
 ],
 "metadata": {
  "kernelspec": {
   "display_name": "base",
   "language": "python",
   "name": "python3"
  },
  "language_info": {
   "codemirror_mode": {
    "name": "ipython",
    "version": 3
   },
   "file_extension": ".py",
   "mimetype": "text/x-python",
   "name": "python",
   "nbconvert_exporter": "python",
   "pygments_lexer": "ipython3",
   "version": "3.11.5"
  }
 },
 "nbformat": 4,
 "nbformat_minor": 2
}

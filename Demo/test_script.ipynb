{
 "cells": [
  {
   "cell_type": "code",
   "execution_count": 6,
   "metadata": {},
   "outputs": [],
   "source": [
    "from biokite.detector import EpistasisDataset, EpistasisDetector, train, evaluate, run_epistasis_detector\n",
    "from sklearn.datasets import make_classification\n",
    "from sklearn.model_selection import train_test_split\n",
    "from torch.utils.data import DataLoader\n",
    "import torch\n",
    "\n",
    "X, y = make_classification(n_samples=1000, n_features=100, n_informative=10,\n",
    "                           n_redundant=0, n_repeated=0, n_classes=2,\n",
    "                           n_clusters_per_class=2, weights=None, flip_y=0.01,\n",
    "                           class_sep=1.0, hypercube=True, shift=0.0,\n",
    "                           scale=1.0, shuffle=True, random_state=42)\n",
    "\n",
    "hidden_dims = [64, 32]"
   ]
  },
  {
   "cell_type": "code",
   "execution_count": 2,
   "metadata": {},
   "outputs": [],
   "source": [
    "X, y = make_classification(n_samples=1000, n_features=100, n_informative=10,\n",
    "                           n_redundant=0, n_repeated=0, n_classes=2,\n",
    "                           n_clusters_per_class=2, weights=None, flip_y=0.01,\n",
    "                           class_sep=1.0, hypercube=True, shift=0.0,\n",
    "                           scale=1.0, shuffle=True, random_state=42)"
   ]
  },
  {
   "cell_type": "code",
   "execution_count": 3,
   "metadata": {},
   "outputs": [],
   "source": [
    "hidden_dims = [64, 32]\n",
    "dropout_rate = 0.5\n",
    "learning_rate = 0.001\n",
    "batch_size = 32\n",
    "num_epochs = 50\n",
    "device = torch.device(\"cuda\" if torch.cuda.is_available() else \"cpu\")"
   ]
  },
  {
   "cell_type": "code",
   "execution_count": 4,
   "metadata": {},
   "outputs": [
    {
     "name": "stdout",
     "output_type": "stream",
     "text": [
      "Epoch [1/50], Train Loss: 0.7000, Train Accuracy: 0.7063, Test Accuracy: 0.7100\n",
      "Epoch [2/50], Train Loss: 0.6419, Train Accuracy: 0.8100, Test Accuracy: 0.7350\n",
      "Epoch [3/50], Train Loss: 0.5762, Train Accuracy: 0.8313, Test Accuracy: 0.7600\n",
      "Epoch [4/50], Train Loss: 0.5300, Train Accuracy: 0.8588, Test Accuracy: 0.7750\n",
      "Epoch [5/50], Train Loss: 0.4711, Train Accuracy: 0.8900, Test Accuracy: 0.8000\n",
      "Epoch [6/50], Train Loss: 0.4476, Train Accuracy: 0.8988, Test Accuracy: 0.8000\n",
      "Epoch [7/50], Train Loss: 0.4072, Train Accuracy: 0.9150, Test Accuracy: 0.8250\n",
      "Epoch [8/50], Train Loss: 0.3658, Train Accuracy: 0.9250, Test Accuracy: 0.8150\n",
      "Epoch [9/50], Train Loss: 0.3580, Train Accuracy: 0.9313, Test Accuracy: 0.8350\n",
      "Epoch [10/50], Train Loss: 0.3332, Train Accuracy: 0.9363, Test Accuracy: 0.8300\n",
      "Epoch [11/50], Train Loss: 0.2964, Train Accuracy: 0.9450, Test Accuracy: 0.8500\n",
      "Epoch [12/50], Train Loss: 0.2846, Train Accuracy: 0.9513, Test Accuracy: 0.8500\n",
      "Epoch [13/50], Train Loss: 0.2638, Train Accuracy: 0.9537, Test Accuracy: 0.8400\n",
      "Epoch [14/50], Train Loss: 0.2611, Train Accuracy: 0.9563, Test Accuracy: 0.8400\n",
      "Epoch [15/50], Train Loss: 0.2776, Train Accuracy: 0.9625, Test Accuracy: 0.8750\n",
      "Epoch [16/50], Train Loss: 0.2268, Train Accuracy: 0.9700, Test Accuracy: 0.8600\n",
      "Epoch [17/50], Train Loss: 0.2260, Train Accuracy: 0.9675, Test Accuracy: 0.8550\n",
      "Epoch [18/50], Train Loss: 0.2045, Train Accuracy: 0.9750, Test Accuracy: 0.8600\n",
      "Epoch [19/50], Train Loss: 0.2001, Train Accuracy: 0.9862, Test Accuracy: 0.8800\n",
      "Epoch [20/50], Train Loss: 0.1880, Train Accuracy: 0.9888, Test Accuracy: 0.8750\n",
      "Epoch [21/50], Train Loss: 0.1856, Train Accuracy: 0.9938, Test Accuracy: 0.8700\n",
      "Epoch [22/50], Train Loss: 0.1635, Train Accuracy: 0.9925, Test Accuracy: 0.8600\n",
      "Epoch [23/50], Train Loss: 0.1690, Train Accuracy: 0.9888, Test Accuracy: 0.8450\n",
      "Epoch [24/50], Train Loss: 0.1913, Train Accuracy: 0.9925, Test Accuracy: 0.8700\n",
      "Epoch [25/50], Train Loss: 0.1649, Train Accuracy: 0.9962, Test Accuracy: 0.8550\n",
      "Epoch [26/50], Train Loss: 0.1570, Train Accuracy: 0.9988, Test Accuracy: 0.8650\n",
      "Epoch [27/50], Train Loss: 0.1476, Train Accuracy: 0.9988, Test Accuracy: 0.8700\n",
      "Epoch [28/50], Train Loss: 0.1348, Train Accuracy: 0.9988, Test Accuracy: 0.8700\n",
      "Epoch [29/50], Train Loss: 0.1159, Train Accuracy: 0.9988, Test Accuracy: 0.8800\n",
      "Epoch [30/50], Train Loss: 0.1434, Train Accuracy: 0.9988, Test Accuracy: 0.8700\n",
      "Epoch [31/50], Train Loss: 0.1145, Train Accuracy: 0.9975, Test Accuracy: 0.8800\n",
      "Epoch [32/50], Train Loss: 0.1281, Train Accuracy: 0.9988, Test Accuracy: 0.8800\n",
      "Epoch [33/50], Train Loss: 0.1206, Train Accuracy: 0.9975, Test Accuracy: 0.8650\n",
      "Epoch [34/50], Train Loss: 0.1130, Train Accuracy: 0.9988, Test Accuracy: 0.8650\n",
      "Epoch [35/50], Train Loss: 0.1136, Train Accuracy: 0.9988, Test Accuracy: 0.8750\n",
      "Epoch [36/50], Train Loss: 0.1016, Train Accuracy: 0.9988, Test Accuracy: 0.8850\n",
      "Epoch [37/50], Train Loss: 0.0821, Train Accuracy: 0.9988, Test Accuracy: 0.8750\n",
      "Epoch [38/50], Train Loss: 0.1130, Train Accuracy: 0.9988, Test Accuracy: 0.8700\n",
      "Epoch [39/50], Train Loss: 0.0967, Train Accuracy: 1.0000, Test Accuracy: 0.8750\n",
      "Epoch [40/50], Train Loss: 0.1439, Train Accuracy: 1.0000, Test Accuracy: 0.8650\n",
      "Epoch [41/50], Train Loss: 0.1010, Train Accuracy: 1.0000, Test Accuracy: 0.8650\n",
      "Epoch [42/50], Train Loss: 0.0892, Train Accuracy: 1.0000, Test Accuracy: 0.8650\n",
      "Epoch [43/50], Train Loss: 0.0906, Train Accuracy: 1.0000, Test Accuracy: 0.8700\n",
      "Epoch [44/50], Train Loss: 0.0773, Train Accuracy: 1.0000, Test Accuracy: 0.8700\n",
      "Epoch [45/50], Train Loss: 0.0788, Train Accuracy: 1.0000, Test Accuracy: 0.8500\n",
      "Epoch [46/50], Train Loss: 0.0874, Train Accuracy: 1.0000, Test Accuracy: 0.8750\n",
      "Epoch [47/50], Train Loss: 0.0713, Train Accuracy: 1.0000, Test Accuracy: 0.8700\n",
      "Epoch [48/50], Train Loss: 0.0820, Train Accuracy: 1.0000, Test Accuracy: 0.8750\n",
      "Epoch [49/50], Train Loss: 0.0655, Train Accuracy: 1.0000, Test Accuracy: 0.8750\n",
      "Epoch [50/50], Train Loss: 0.0702, Train Accuracy: 1.0000, Test Accuracy: 0.8950\n"
     ]
    }
   ],
   "source": [
    "model = run_epistasis_detector(X, y, hidden_dims, dropout_rate, learning_rate, batch_size, num_epochs, device)"
   ]
  },
  {
   "cell_type": "code",
   "execution_count": 7,
   "metadata": {},
   "outputs": [
    {
     "name": "stdout",
     "output_type": "stream",
     "text": [
      "Test Accuracy: 0.8950\n"
     ]
    }
   ],
   "source": [
    "from sklearn.model_selection import train_test_split\n",
    "\n",
    "X_train, X_test, y_train, y_test = train_test_split(X, y, test_size=0.2, random_state=42)\n",
    "test_dataset = EpistasisDataset(X_test, y_test)\n",
    "test_loader = DataLoader(test_dataset, batch_size=batch_size, shuffle=False)\n",
    "test_accuracy = evaluate(model, test_loader, device)\n",
    "print(f\"Test Accuracy: {test_accuracy:.4f}\")"
   ]
  }
 ],
 "metadata": {
  "kernelspec": {
   "display_name": "base",
   "language": "python",
   "name": "python3"
  },
  "language_info": {
   "codemirror_mode": {
    "name": "ipython",
    "version": 3
   },
   "file_extension": ".py",
   "mimetype": "text/x-python",
   "name": "python",
   "nbconvert_exporter": "python",
   "pygments_lexer": "ipython3",
   "version": "3.11.5"
  }
 },
 "nbformat": 4,
 "nbformat_minor": 2
}
